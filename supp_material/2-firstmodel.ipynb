{
 "cells": [
  {
   "cell_type": "code",
   "execution_count": 25,
   "id": "fc71443a-7aab-4aef-93de-cddb30da0c31",
   "metadata": {},
   "outputs": [],
   "source": [
    "import torch\n",
    "from torch import nn\n",
    "import torch.nn.functional as F\n",
    "import numpy as np\n",
    "\n",
    "import matplotlib.pyplot as plt"
   ]
  },
  {
   "cell_type": "code",
   "execution_count": 26,
   "id": "a2c576b5-a520-4414-aec6-7c36b55a3783",
   "metadata": {},
   "outputs": [],
   "source": [
    "model = nn.Sequential(nn.Linear(2,3), nn.ReLU(), nn.Linear(3,1), nn.Sigmoid())"
   ]
  },
  {
   "cell_type": "code",
   "execution_count": 28,
   "id": "507aa98a-ee67-4e9d-8d10-1812301b47e3",
   "metadata": {},
   "outputs": [
    {
     "name": "stdout",
     "output_type": "stream",
     "text": [
      "[tensor([[ True],\n",
      "        [False],\n",
      "        [False],\n",
      "        [ True]])]\n"
     ]
    }
   ],
   "source": [
    "def test(model):\n",
    "    inputs = torch.tensor([[0, 0], [0, 1], [1, 0], [1, 1]], dtype=torch.float)\n",
    "    outputs = torch.tensor([[0], [1], [1], [0]], dtype=torch.float)\n",
    "    preds = []\n",
    "    \n",
    "    pred = model(inputs)\n",
    "        \n",
    "    preds.append((pred > 0.5).int() == outputs)\n",
    "\n",
    "    print(preds)\n",
    "    \n",
    "test(model)"
   ]
  },
  {
   "cell_type": "code",
   "execution_count": null,
   "id": "352f6c6a-6d94-4347-9700-7e5fe1449a5b",
   "metadata": {},
   "outputs": [],
   "source": []
  }
 ],
 "metadata": {
  "kernelspec": {
   "display_name": "Python 3 (ipykernel)",
   "language": "python",
   "name": "python3"
  },
  "language_info": {
   "codemirror_mode": {
    "name": "ipython",
    "version": 3
   },
   "file_extension": ".py",
   "mimetype": "text/x-python",
   "name": "python",
   "nbconvert_exporter": "python",
   "pygments_lexer": "ipython3",
   "version": "3.11.5"
  }
 },
 "nbformat": 4,
 "nbformat_minor": 5
}
