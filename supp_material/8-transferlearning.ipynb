{
 "cells": [
  {
   "cell_type": "markdown",
   "metadata": {},
   "source": [
    "# Transfer learning -- VGG-16 on Cifar-10"
   ]
  },
  {
   "cell_type": "markdown",
   "metadata": {},
   "source": [
    "We will use tranfer learning to retrain Vgg16 on the cifar10 dataset (https://www.cs.toronto.edu/~kriz/cifar.html)."
   ]
  },
  {
   "cell_type": "markdown",
   "metadata": {},
   "source": [
    "## Imports"
   ]
  },
  {
   "cell_type": "code",
   "execution_count": null,
   "metadata": {},
   "outputs": [],
   "source": [
    "import torch\n",
    "from torch.utils.data import DataLoader\n",
    "import torchvision\n",
    "from torchvision import datasets\n",
    "import numpy as np\n",
    "import matplotlib.pyplot as plt\n",
    "from torchmetrics.classification import MulticlassAccuracy, MulticlassConfusionMatrix"
   ]
  },
  {
   "cell_type": "markdown",
   "metadata": {},
   "source": [
    "## Settings and Dataset"
   ]
  },
  {
   "cell_type": "code",
   "execution_count": null,
   "metadata": {},
   "outputs": [],
   "source": [
    "##########################\n",
    "### SETTINGS\n",
    "##########################\n",
    "\n",
    "BATCH_SIZE = 256\n",
    "NUM_EPOCHS = 50\n",
    "DEVICE = torch.device('cuda' if torch.cuda.is_available() else 'cpu')"
   ]
  },
  {
   "cell_type": "code",
   "execution_count": null,
   "metadata": {},
   "outputs": [],
   "source": [
    "##########################\n",
    "### CIFAR-10 DATASET\n",
    "##########################\n",
    "\n",
    "\n",
    "train_transforms = torchvision.transforms.Compose([\n",
    "    torchvision.transforms.Resize((70, 70)),\n",
    "    torchvision.transforms.RandomCrop((64, 64)),\n",
    "    torchvision.transforms.ToTensor(),\n",
    "    torchvision.transforms.Normalize((0.485, 0.456, 0.406), (0.229, 0.224, 0.225))])\n",
    "\n",
    "test_transforms = torchvision.transforms.Compose([\n",
    "    torchvision.transforms.Resize((70, 70)),        \n",
    "    torchvision.transforms.CenterCrop((64, 64)),            \n",
    "    torchvision.transforms.ToTensor(),                \n",
    "    torchvision.transforms.Normalize((0.485, 0.456, 0.406), (0.229, 0.224, 0.2255))])\n",
    "\n",
    "train_dataset = datasets.CIFAR10(root='data',\n",
    "                                 train=True,\n",
    "                                 transform=train_transforms,\n",
    "                                 download=True)\n",
    "\n",
    "test_dataset = datasets.CIFAR10(root='data',\n",
    "                                train=False,\n",
    "                                transform=test_transforms)\n",
    "\n",
    "train_loader = DataLoader(dataset=train_dataset,\n",
    "                                  batch_size=BATCH_SIZE,\n",
    "                                  num_workers=4,\n",
    "                                  drop_last=True,\n",
    "                                  shuffle=True)\n",
    "\n",
    "test_loader = DataLoader(dataset=test_dataset,\n",
    "                             batch_size=BATCH_SIZE,\n",
    "                             num_workers=4,\n",
    "                             shuffle=False)\n",
    "\n",
    "# Checking the dataset\n",
    "for images, labels in train_loader:  \n",
    "    print('Image batch dimensions:', images.shape)\n",
    "    print('Image label dimensions:', labels.shape)\n",
    "    print('Class labels of 10 examples:', labels[:10])\n",
    "    break"
   ]
  },
  {
   "cell_type": "markdown",
   "metadata": {},
   "source": [
    "## Load Pre-Trained Model"
   ]
  },
  {
   "cell_type": "markdown",
   "metadata": {},
   "source": [
    "You can find a list of available models on the [website of torchvision](https://pytorch.org/vision/stable/models.html). Here we load the VGG16 model with pre-trained weights (trained on ImageNet)."
   ]
  },
  {
   "cell_type": "code",
   "execution_count": null,
   "metadata": {},
   "outputs": [],
   "source": [
    "model = torchvision.models.vgg16(weights=torchvision.models.VGG16_Weights.DEFAULT)\n",
    "model"
   ]
  },
  {
   "cell_type": "markdown",
   "metadata": {},
   "source": [
    "## Freezing the Model"
   ]
  },
  {
   "cell_type": "markdown",
   "metadata": {},
   "source": [
    "We freeze all parameters of the model by setting the requires_grad attribute to False. This will prevent the gradients to be computetd on these parameters and thus the parameters to be updated."
   ]
  },
  {
   "cell_type": "code",
   "execution_count": null,
   "metadata": {},
   "outputs": [],
   "source": [
    "for param in model.parameters():\n",
    "    param.requires_grad = False"
   ]
  },
  {
   "cell_type": "markdown",
   "metadata": {},
   "source": [
    "Assume we want to fine-tune (train) the last 3 layers, we un-freeze them (the indices corresponds to the ones in the model printed above):"
   ]
  },
  {
   "cell_type": "code",
   "execution_count": null,
   "metadata": {},
   "outputs": [],
   "source": [
    "model.classifier[0].requires_grad = True\n",
    "model.classifier[3].requires_grad = True"
   ]
  },
  {
   "cell_type": "markdown",
   "metadata": {},
   "source": [
    "For the last layer, because the number of class labels differs compared to ImageNet, we replace the output layer with your own output layer:"
   ]
  },
  {
   "cell_type": "code",
   "execution_count": null,
   "metadata": {},
   "outputs": [],
   "source": [
    "model.classifier[6] = torch.nn.Linear(4096, 10)"
   ]
  },
  {
   "cell_type": "markdown",
   "metadata": {},
   "source": [
    "## Then, Training as Usual"
   ]
  },
  {
   "cell_type": "code",
   "execution_count": null,
   "metadata": {},
   "outputs": [],
   "source": [
    "model = model.to(DEVICE)\n",
    "\n",
    "#optimizer = torch.optim.Adam(model.parameters())\n",
    "optimizer = torch.optim.SGD(model.parameters(), momentum=0.9, lr=0.001)\n",
    "\n",
    "metric = MulticlassAccuracy(num_classes=10).to(DEVICE)\n",
    "\n",
    "minibatch_loss_list, train_acc_list, valid_acc_list = [], [], []\n",
    "for epoch in range(NUM_EPOCHS):\n",
    "    model.train()\n",
    "    for batch_idx, (features, targets) in enumerate(train_loader):\n",
    "\n",
    "        features = features.to(DEVICE)\n",
    "        targets = targets.to(DEVICE)\n",
    "\n",
    "        # FORWARD AND BACK PROP\n",
    "        logits = model(features)\n",
    "        loss = torch.nn.functional.cross_entropy(logits, targets)\n",
    "        optimizer.zero_grad()\n",
    "\n",
    "        loss.backward()\n",
    "\n",
    "        # UPDATE MODEL PARAMETERS\n",
    "        optimizer.step()\n",
    "\n",
    "        # ## LOGGING\n",
    "        minibatch_loss_list.append(loss.detach().item())\n",
    "        if not batch_idx % 100:\n",
    "            print(f'Epoch: {epoch+1:03d}/{NUM_EPOCHS:03d} '\n",
    "                  f'| Batch {batch_idx:04d}/{len(train_loader):04d} '\n",
    "                  f'| Loss: {loss:.4f}')\n",
    "\n",
    "    # Test\n",
    "    model.eval()\n",
    "    with torch.no_grad():  # save memory during inference\n",
    "        metric.reset()\n",
    "        for i, (features, targets) in enumerate(train_loader):\n",
    "            features = features.to(DEVICE)\n",
    "            targets = targets.float().to(DEVICE)\n",
    "            logits = model(features)\n",
    "            metric.update(logits, targets)\n",
    "            \n",
    "        train_acc = metric.compute()\n",
    "        \n",
    "        metric.reset()\n",
    "        for i, (features, targets) in enumerate(test_loader):\n",
    "            features = features.to(DEVICE)\n",
    "            targets = targets.float().to(DEVICE)\n",
    "            logits = model(features)\n",
    "            metric.update(logits, targets)\n",
    "            \n",
    "        test_acc = metric.compute()\n",
    "\n",
    "        print(f'Epoch: {epoch+1:03d}/{NUM_EPOCHS:03d} '\n",
    "              f'| Train: {train_acc*100 :.2f}% '\n",
    "              f'| Validation: {test_acc*100 :.2f}%')\n",
    "        train_acc_list.append(train_acc.item())\n",
    "        valid_acc_list.append(test_acc.item())\n"
   ]
  },
  {
   "cell_type": "code",
   "execution_count": null,
   "metadata": {},
   "outputs": [],
   "source": [
    "conf_matrix = MulticlassConfusionMatrix(num_classes=10).to(DEVICE)\n",
    "metric = MulticlassAccuracy(num_classes=10).to(DEVICE)\n",
    "\n",
    "class_dict = {0: 'airplane',\n",
    "              1: 'automobile',\n",
    "              2: 'bird',\n",
    "              3: 'cat',\n",
    "              4: 'deer',\n",
    "              5: 'dog',\n",
    "              6: 'frog',\n",
    "              7: 'horse',\n",
    "              8: 'ship',\n",
    "              9: 'truck'}\n",
    "# Test\n",
    "model.eval()\n",
    "\n",
    "all_targets = torch.tensor([]).to(DEVICE)\n",
    "all_predictions = torch.tensor([]).to(DEVICE)\n",
    "with torch.no_grad():  # save memory during inference\n",
    "    for i, (features, targets) in enumerate(test_loader):\n",
    "        features = features.to(DEVICE)\n",
    "        targets = targets.float().to(DEVICE)\n",
    "        logits = model(features)\n",
    "        predicted_labels = torch.argmax(logits,1)\n",
    "        \n",
    "        all_targets = torch.cat((all_targets, targets))\n",
    "        all_predictions = torch.cat((all_predictions,predicted_labels))\n",
    "        \n",
    "print(f\"Accuracy: {metric(all_predictions, all_targets)*100:.2f}\")\n",
    "conf_matrix.update(all_predictions, all_targets)\n",
    "fig_, ax_ = conf_matrix.plot(labels=class_dict.values())\n",
    "plt.show()"
   ]
  },
  {
   "cell_type": "code",
   "execution_count": null,
   "metadata": {},
   "outputs": [],
   "source": []
  }
 ],
 "metadata": {
  "kernelspec": {
   "display_name": "Python 3 (ipykernel)",
   "language": "python",
   "name": "python3"
  },
  "language_info": {
   "codemirror_mode": {
    "name": "ipython",
    "version": 3
   },
   "file_extension": ".py",
   "mimetype": "text/x-python",
   "name": "python",
   "nbconvert_exporter": "python",
   "pygments_lexer": "ipython3",
   "version": "3.11.6"
  },
  "toc": {
   "nav_menu": {},
   "number_sections": true,
   "sideBar": true,
   "skip_h1_title": false,
   "title_cell": "Table of Contents",
   "title_sidebar": "Contents",
   "toc_cell": false,
   "toc_position": {},
   "toc_section_display": true,
   "toc_window_display": false
  }
 },
 "nbformat": 4,
 "nbformat_minor": 4
}
