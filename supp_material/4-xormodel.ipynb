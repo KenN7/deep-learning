{
 "cells": [
  {
   "cell_type": "code",
   "execution_count": 38,
   "id": "fc71443a-7aab-4aef-93de-cddb30da0c31",
   "metadata": {},
   "outputs": [],
   "source": [
    "import torch\n",
    "from torch import nn\n",
    "import torch.nn.functional as F\n",
    "import numpy as np\n",
    "\n",
    "import matplotlib.pyplot as plt"
   ]
  },
  {
   "cell_type": "code",
   "execution_count": 39,
   "id": "a2c576b5-a520-4414-aec6-7c36b55a3783",
   "metadata": {},
   "outputs": [],
   "source": [
    "model = nn.Sequential(nn.Linear(2,3), nn.ReLU(), nn.Linear(3,1), nn.Sigmoid())"
   ]
  },
  {
   "cell_type": "code",
   "execution_count": 40,
   "id": "695c6f36-4d16-42e5-aa54-75277f8e635d",
   "metadata": {},
   "outputs": [],
   "source": [
    "loss_fn = nn.BCELoss()\n",
    "optimizer = torch.optim.Adam(model.parameters(), lr=0.1)"
   ]
  },
  {
   "cell_type": "code",
   "execution_count": 41,
   "id": "132b9560-00aa-4ce6-83b5-fefd8c212ec5",
   "metadata": {},
   "outputs": [
    {
     "name": "stdout",
     "output_type": "stream",
     "text": [
      "tensor(0.6856)\n",
      "tensor(0.6662)\n",
      "tensor(0.6398)\n",
      "tensor(0.6346)\n",
      "tensor(0.6234)\n",
      "tensor(0.6053)\n",
      "tensor(0.5807)\n",
      "tensor(0.5522)\n",
      "tensor(0.5238)\n",
      "tensor(0.4953)\n",
      "tensor(0.4633)\n",
      "tensor(0.4203)\n",
      "tensor(0.3899)\n",
      "tensor(0.3584)\n",
      "tensor(0.3244)\n",
      "tensor(0.2924)\n",
      "tensor(0.2562)\n",
      "tensor(0.2249)\n",
      "tensor(0.2013)\n",
      "tensor(0.1768)\n",
      "tensor(0.1542)\n",
      "tensor(0.1338)\n",
      "tensor(0.1170)\n",
      "tensor(0.1032)\n",
      "tensor(0.0910)\n",
      "tensor(0.0802)\n",
      "tensor(0.0708)\n",
      "tensor(0.0629)\n",
      "tensor(0.0561)\n",
      "tensor(0.0504)\n",
      "tensor(0.0448)\n",
      "tensor(0.0403)\n",
      "tensor(0.0362)\n",
      "tensor(0.0331)\n",
      "tensor(0.0298)\n",
      "tensor(0.0271)\n",
      "tensor(0.0247)\n",
      "tensor(0.0227)\n",
      "tensor(0.0208)\n",
      "tensor(0.0192)\n",
      "tensor(0.0178)\n",
      "tensor(0.0165)\n",
      "tensor(0.0154)\n",
      "tensor(0.0144)\n",
      "tensor(0.0135)\n",
      "tensor(0.0127)\n",
      "tensor(0.0119)\n",
      "tensor(0.0113)\n",
      "tensor(0.0107)\n",
      "tensor(0.0102)\n"
     ]
    }
   ],
   "source": [
    "model.train()\n",
    "epoch = 50\n",
    "\n",
    "inputs = torch.tensor([[0, 0], [0, 1], [1, 0], [1, 1]], dtype=torch.float)\n",
    "outputs = torch.tensor([[0], [1], [1], [0]], dtype=torch.float)\n",
    "\n",
    "for i in range(epoch):\n",
    "    optimizer.zero_grad()\n",
    "    \n",
    "    pred = model(inputs)\n",
    "    loss = loss_fn(pred,outputs)\n",
    "\n",
    "    #print(inputs,outputs,pred,inputs.shape,outputs.shape,pred.shape)\n",
    "    print(loss.detach())\n",
    "    \n",
    "    loss.backward()\n",
    "    optimizer.step()\n"
   ]
  },
  {
   "cell_type": "code",
   "execution_count": 42,
   "id": "507aa98a-ee67-4e9d-8d10-1812301b47e3",
   "metadata": {},
   "outputs": [
    {
     "name": "stdout",
     "output_type": "stream",
     "text": [
      "[tensor([[True],\n",
      "        [True],\n",
      "        [True],\n",
      "        [True]])]\n"
     ]
    }
   ],
   "source": [
    "def test(model):\n",
    "    inputs = torch.tensor([[0, 0], [0, 1], [1, 0], [1, 1]], dtype=torch.float)\n",
    "    outputs = torch.tensor([[0], [1], [1], [0]], dtype=torch.float)\n",
    "    preds = []\n",
    "    \n",
    "    model.eval()\n",
    "    with torch.no_grad():\n",
    "        pred = model(inputs)\n",
    "    preds.append((pred > 0.5).int() == outputs)\n",
    "\n",
    "    print(preds)\n",
    "    \n",
    "test(model)"
   ]
  },
  {
   "cell_type": "code",
   "execution_count": null,
   "id": "0c257f7a-22b8-426c-bb88-c12571a35fd4",
   "metadata": {},
   "outputs": [],
   "source": []
  }
 ],
 "metadata": {
  "kernelspec": {
   "display_name": "Python 3 (ipykernel)",
   "language": "python",
   "name": "python3"
  },
  "language_info": {
   "codemirror_mode": {
    "name": "ipython",
    "version": 3
   },
   "file_extension": ".py",
   "mimetype": "text/x-python",
   "name": "python",
   "nbconvert_exporter": "python",
   "pygments_lexer": "ipython3",
   "version": "3.11.5"
  }
 },
 "nbformat": 4,
 "nbformat_minor": 5
}
