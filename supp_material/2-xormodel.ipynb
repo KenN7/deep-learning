{
 "cells": [
  {
   "cell_type": "code",
   "execution_count": 31,
   "id": "fc71443a-7aab-4aef-93de-cddb30da0c31",
   "metadata": {},
   "outputs": [],
   "source": [
    "import torch\n",
    "from torch import nn\n",
    "import torch.nn.functional as F\n",
    "import numpy as np\n",
    "\n",
    "import matplotlib.pyplot as plt"
   ]
  },
  {
   "cell_type": "code",
   "execution_count": 32,
   "id": "a2c576b5-a520-4414-aec6-7c36b55a3783",
   "metadata": {},
   "outputs": [],
   "source": [
    "model = nn.Sequential(nn.Linear(2,3), nn.ReLU(), nn.Linear(3,1), nn.Sigmoid())"
   ]
  },
  {
   "cell_type": "code",
   "execution_count": 33,
   "id": "695c6f36-4d16-42e5-aa54-75277f8e635d",
   "metadata": {},
   "outputs": [],
   "source": [
    "loss_fn = nn.BCELoss()\n",
    "optimizer = torch.optim.Adam(model.parameters(), lr=0.1)"
   ]
  },
  {
   "cell_type": "code",
   "execution_count": 35,
   "id": "132b9560-00aa-4ce6-83b5-fefd8c212ec5",
   "metadata": {},
   "outputs": [
    {
     "name": "stdout",
     "output_type": "stream",
     "text": [
      "tensor(0.1543, grad_fn=<BinaryCrossEntropyBackward0>)\n",
      "tensor(0.1318, grad_fn=<BinaryCrossEntropyBackward0>)\n",
      "tensor(0.1194, grad_fn=<BinaryCrossEntropyBackward0>)\n",
      "tensor(0.1082, grad_fn=<BinaryCrossEntropyBackward0>)\n",
      "tensor(0.0991, grad_fn=<BinaryCrossEntropyBackward0>)\n",
      "tensor(0.0907, grad_fn=<BinaryCrossEntropyBackward0>)\n",
      "tensor(0.0828, grad_fn=<BinaryCrossEntropyBackward0>)\n",
      "tensor(0.0755, grad_fn=<BinaryCrossEntropyBackward0>)\n",
      "tensor(0.0685, grad_fn=<BinaryCrossEntropyBackward0>)\n",
      "tensor(0.0620, grad_fn=<BinaryCrossEntropyBackward0>)\n",
      "tensor(0.0561, grad_fn=<BinaryCrossEntropyBackward0>)\n",
      "tensor(0.0506, grad_fn=<BinaryCrossEntropyBackward0>)\n",
      "tensor(0.0457, grad_fn=<BinaryCrossEntropyBackward0>)\n",
      "tensor(0.0413, grad_fn=<BinaryCrossEntropyBackward0>)\n",
      "tensor(0.0373, grad_fn=<BinaryCrossEntropyBackward0>)\n",
      "tensor(0.0337, grad_fn=<BinaryCrossEntropyBackward0>)\n",
      "tensor(0.0305, grad_fn=<BinaryCrossEntropyBackward0>)\n",
      "tensor(0.0276, grad_fn=<BinaryCrossEntropyBackward0>)\n",
      "tensor(0.0250, grad_fn=<BinaryCrossEntropyBackward0>)\n",
      "tensor(0.0227, grad_fn=<BinaryCrossEntropyBackward0>)\n",
      "tensor(0.0208, grad_fn=<BinaryCrossEntropyBackward0>)\n",
      "tensor(0.0196, grad_fn=<BinaryCrossEntropyBackward0>)\n",
      "tensor(0.0180, grad_fn=<BinaryCrossEntropyBackward0>)\n",
      "tensor(0.0169, grad_fn=<BinaryCrossEntropyBackward0>)\n",
      "tensor(0.0160, grad_fn=<BinaryCrossEntropyBackward0>)\n",
      "tensor(0.0151, grad_fn=<BinaryCrossEntropyBackward0>)\n",
      "tensor(0.0143, grad_fn=<BinaryCrossEntropyBackward0>)\n",
      "tensor(0.0136, grad_fn=<BinaryCrossEntropyBackward0>)\n",
      "tensor(0.0130, grad_fn=<BinaryCrossEntropyBackward0>)\n",
      "tensor(0.0124, grad_fn=<BinaryCrossEntropyBackward0>)\n",
      "tensor(0.0119, grad_fn=<BinaryCrossEntropyBackward0>)\n",
      "tensor(0.0113, grad_fn=<BinaryCrossEntropyBackward0>)\n",
      "tensor(0.0109, grad_fn=<BinaryCrossEntropyBackward0>)\n",
      "tensor(0.0104, grad_fn=<BinaryCrossEntropyBackward0>)\n",
      "tensor(0.0100, grad_fn=<BinaryCrossEntropyBackward0>)\n",
      "tensor(0.0099, grad_fn=<BinaryCrossEntropyBackward0>)\n",
      "tensor(0.0094, grad_fn=<BinaryCrossEntropyBackward0>)\n",
      "tensor(0.0090, grad_fn=<BinaryCrossEntropyBackward0>)\n",
      "tensor(0.0088, grad_fn=<BinaryCrossEntropyBackward0>)\n",
      "tensor(0.0086, grad_fn=<BinaryCrossEntropyBackward0>)\n",
      "tensor(0.0083, grad_fn=<BinaryCrossEntropyBackward0>)\n",
      "tensor(0.0081, grad_fn=<BinaryCrossEntropyBackward0>)\n",
      "tensor(0.0079, grad_fn=<BinaryCrossEntropyBackward0>)\n",
      "tensor(0.0077, grad_fn=<BinaryCrossEntropyBackward0>)\n",
      "tensor(0.0075, grad_fn=<BinaryCrossEntropyBackward0>)\n",
      "tensor(0.0074, grad_fn=<BinaryCrossEntropyBackward0>)\n",
      "tensor(0.0072, grad_fn=<BinaryCrossEntropyBackward0>)\n",
      "tensor(0.0070, grad_fn=<BinaryCrossEntropyBackward0>)\n",
      "tensor(0.0068, grad_fn=<BinaryCrossEntropyBackward0>)\n",
      "tensor(0.0067, grad_fn=<BinaryCrossEntropyBackward0>)\n"
     ]
    }
   ],
   "source": [
    "model.train()\n",
    "epoch = 50\n",
    "\n",
    "inputs = torch.tensor([[0, 0], [0, 1], [1, 0], [1, 1]], dtype=torch.float)\n",
    "outputs = torch.tensor([[0], [1], [1], [0]], dtype=torch.float)\n",
    "\n",
    "for i in range(epoch):\n",
    "    optimizer.zero_grad()\n",
    "    \n",
    "    pred = model(inputs)\n",
    "    loss = loss_fn(pred,outputs)\n",
    "\n",
    "    #print(inputs,outputs,pred,inputs.shape,outputs.shape,pred.shape)\n",
    "    print(loss)\n",
    "    \n",
    "    loss.backward()\n",
    "    optimizer.step()\n"
   ]
  },
  {
   "cell_type": "code",
   "execution_count": 36,
   "id": "507aa98a-ee67-4e9d-8d10-1812301b47e3",
   "metadata": {},
   "outputs": [
    {
     "name": "stdout",
     "output_type": "stream",
     "text": [
      "[tensor([[True],\n",
      "        [True],\n",
      "        [True],\n",
      "        [True]])]\n"
     ]
    }
   ],
   "source": [
    "def test(model):\n",
    "    inputs = torch.tensor([[0, 0], [0, 1], [1, 0], [1, 1]], dtype=torch.float)\n",
    "    outputs = torch.tensor([[0], [1], [1], [0]], dtype=torch.float)\n",
    "    preds = []\n",
    "    \n",
    "    model.eval()\n",
    "    with torch.no_grad():\n",
    "        pred = model(inputs)\n",
    "    preds.append((pred > 0.5).int() == outputs)\n",
    "\n",
    "    print(preds)\n",
    "    \n",
    "test(model)"
   ]
  },
  {
   "cell_type": "code",
   "execution_count": null,
   "id": "0c257f7a-22b8-426c-bb88-c12571a35fd4",
   "metadata": {},
   "outputs": [],
   "source": []
  }
 ],
 "metadata": {
  "kernelspec": {
   "display_name": "Python 3 (ipykernel)",
   "language": "python",
   "name": "python3"
  },
  "language_info": {
   "codemirror_mode": {
    "name": "ipython",
    "version": 3
   },
   "file_extension": ".py",
   "mimetype": "text/x-python",
   "name": "python",
   "nbconvert_exporter": "python",
   "pygments_lexer": "ipython3",
   "version": "3.11.5"
  }
 },
 "nbformat": 4,
 "nbformat_minor": 5
}
